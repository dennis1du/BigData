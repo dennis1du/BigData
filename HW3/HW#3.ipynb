{
 "cells": [
  {
   "cell_type": "code",
   "execution_count": 6,
   "metadata": {},
   "outputs": [],
   "source": [
    "import numpy as np\n",
    "import pandas as pd\n",
    "import scipy as sp\n",
    "import matplotlib.pyplot as plt\n",
    "import time\n",
    "import falconn\n",
    "\n",
    "from scipy.sparse.linalg import eigs\n",
    "from sklearn.neighbors import NearestNeighbors\n",
    "from sklearn.cluster import KMeans\n",
    "from sklearn.random_projection import GaussianRandomProjection\n",
    "from sklearn.random_projection import johnson_lindenstrauss_min_dim\n",
    "\n",
    "%matplotlib inline\n",
    "%config InlineBackend.figure_format = 'svg'"
   ]
  },
  {
   "cell_type": "markdown",
   "metadata": {},
   "source": [
    "# Data"
   ]
  },
  {
   "cell_type": "code",
   "execution_count": 7,
   "metadata": {},
   "outputs": [],
   "source": [
    "def data_generate(n, p, t):\n",
    "    np.random.seed(t)\n",
    "    cov = np.identity(p)\n",
    "    mean1 = np.array([3/np.sqrt(p)]*p)\n",
    "    mean2 = np.array([-3/np.sqrt(p)]*p)\n",
    "    x1 = np.random.multivariate_normal(mean1, cov, size=int(n/2))\n",
    "    x2 = np.random.multivariate_normal(mean2, cov, size=int(n/2))\n",
    "    data = np.r_[x1, x2]\n",
    "    \n",
    "    # randomly permutation index\n",
    "    #indx = np.random.permutation(n)\n",
    "    return data"
   ]
  },
  {
   "cell_type": "code",
   "execution_count": 8,
   "metadata": {},
   "outputs": [],
   "source": [
    "true = np.append(np.array([1]*5000), np.array([0]*5000))"
   ]
  },
  {
   "cell_type": "markdown",
   "metadata": {},
   "source": [
    "# Spectral Clustering"
   ]
  },
  {
   "cell_type": "markdown",
   "metadata": {},
   "source": [
    "- Affinity Matrix (KNN)"
   ]
  },
  {
   "cell_type": "code",
   "execution_count": 9,
   "metadata": {},
   "outputs": [],
   "source": [
    "def Affinity_KNN(data, k, alg='brute'):\n",
    "    nbrs = NearestNeighbors(n_neighbors=k+1, algorithm=alg).fit(data)\n",
    "    return nbrs.kneighbors_graph(data).toarray()"
   ]
  },
  {
   "cell_type": "markdown",
   "metadata": {},
   "source": [
    "- Normalization"
   ]
  },
  {
   "cell_type": "code",
   "execution_count": 15,
   "metadata": {},
   "outputs": [],
   "source": [
    "# def Normalization(A):\n",
    "#     size = A.shape[0]\n",
    "#     N = np.zeros(shape=(size,size), dtype=float)\n",
    "    \n",
    "#     # Degree Vector\n",
    "#     D = np.sum(A, axis = 1)\n",
    "    \n",
    "#     for i in range(size):\n",
    "#         for j in range(i, size):\n",
    "#             N[i][j] = A[i][j]/np.sqrt(D[i]*D[j])\n",
    "#             N[j][i] = N[i][j]\n",
    "#     return N"
   ]
  },
  {
   "cell_type": "code",
   "execution_count": 10,
   "metadata": {},
   "outputs": [],
   "source": [
    "def Normalization(A):\n",
    "    return A/np.sqrt(6)"
   ]
  },
  {
   "cell_type": "markdown",
   "metadata": {},
   "source": [
    "- Construct Y"
   ]
  },
  {
   "cell_type": "code",
   "execution_count": 11,
   "metadata": {},
   "outputs": [],
   "source": [
    "def Y_Matrix(N, m):\n",
    "    size = N.shape[0]\n",
    "    y = eigs(N,m)[1]\n",
    "    s = np.linalg.norm(y, axis=1)\n",
    "    Y = np.array([y[i]/s[i] for i in range(size)])\n",
    "    return np.real(Y)"
   ]
  },
  {
   "cell_type": "markdown",
   "metadata": {},
   "source": [
    "- KMeans"
   ]
  },
  {
   "cell_type": "code",
   "execution_count": 12,
   "metadata": {},
   "outputs": [],
   "source": [
    "def spKmeans(Y,m):\n",
    "    sp_kmeans = KMeans(n_clusters=m).fit(Y)\n",
    "    return sp_kmeans.labels_"
   ]
  },
  {
   "cell_type": "markdown",
   "metadata": {},
   "source": [
    "- Accuracy"
   ]
  },
  {
   "cell_type": "code",
   "execution_count": 13,
   "metadata": {},
   "outputs": [],
   "source": [
    "def Accuracy(true, test):\n",
    "    size = test.shape[0]\n",
    "    acc = np.abs(np.sum(true-test))/size\n",
    "    if acc > .5:\n",
    "        return acc\n",
    "    else:\n",
    "        return 1-acc"
   ]
  },
  {
   "cell_type": "markdown",
   "metadata": {},
   "source": [
    "# Exact"
   ]
  },
  {
   "cell_type": "code",
   "execution_count": 14,
   "metadata": {},
   "outputs": [],
   "source": [
    "def Exact(data, k, m):\n",
    "    size = data.shape[0]\n",
    "    start = time.clock()\n",
    "\n",
    "    A = Affinity_KNN(data, k)\n",
    "    N = Normalization(A)\n",
    "    Y = Y_Matrix(N, m)\n",
    "    test = spKmeans(Y, m)\n",
    "    end = time.clock()\n",
    "    \n",
    "    acc = Accuracy(true, test)\n",
    "    runtime = end - start\n",
    "    return acc, runtime"
   ]
  },
  {
   "cell_type": "markdown",
   "metadata": {},
   "source": [
    "# JL+Exact & JL+KDtree"
   ]
  },
  {
   "cell_type": "markdown",
   "metadata": {},
   "source": [
    "- epsilon"
   ]
  },
  {
   "cell_type": "code",
   "execution_count": 58,
   "metadata": {},
   "outputs": [
    {
     "data": {
      "text/plain": [
       "array([7894, 2125, 1023,  627,  442,  341,  281,  246,  227])"
      ]
     },
     "execution_count": 58,
     "metadata": {},
     "output_type": "execute_result"
    }
   ],
   "source": [
    "johnson_lindenstrauss_min_dim(eps=[0.1, 0.2, 0.3, 0.4, 0.5, 0.6, 0.7, 0.8, 0.9], n_samples=10000)"
   ]
  },
  {
   "cell_type": "code",
   "execution_count": 16,
   "metadata": {},
   "outputs": [],
   "source": [
    "def epsilon(data):\n",
    "    dimension = data.shape[1]\n",
    "    if dimension == 250:\n",
    "        return 0.9\n",
    "    elif dimension == 500:\n",
    "        return 0.6\n",
    "    elif dimension == 1000:\n",
    "        return 0.4\n",
    "    elif dimension == 2000:\n",
    "        return 0.3"
   ]
  },
  {
   "cell_type": "markdown",
   "metadata": {},
   "source": [
    "- JL"
   ]
  },
  {
   "cell_type": "code",
   "execution_count": 17,
   "metadata": {},
   "outputs": [],
   "source": [
    "def JL(data, eps):\n",
    "    transform = GaussianRandomProjection(eps=eps)\n",
    "    X = transform.fit_transform(data)\n",
    "    return X"
   ]
  },
  {
   "cell_type": "markdown",
   "metadata": {},
   "source": [
    "- JL+Exact"
   ]
  },
  {
   "cell_type": "code",
   "execution_count": 18,
   "metadata": {},
   "outputs": [],
   "source": [
    "def JL_Exact(data, k, m, eps):\n",
    "    size = data.shape[0]\n",
    "    start = time.clock()\n",
    "    X = JL(data, eps)    \n",
    "    A = Affinity_KNN(X, k)\n",
    "    N = Normalization(A)\n",
    "    Y = Y_Matrix(N, m)\n",
    "    test = spKmeans(Y, m)\n",
    "    end = time.clock()\n",
    "    acc = Accuracy(true, test)\n",
    "    runtime = end - start\n",
    "    return acc, runtime"
   ]
  },
  {
   "cell_type": "markdown",
   "metadata": {},
   "source": [
    "- JL+KDtree"
   ]
  },
  {
   "cell_type": "code",
   "execution_count": 19,
   "metadata": {},
   "outputs": [],
   "source": [
    "def JL_Kdtree(data, k, m, eps):\n",
    "    size = data.shape[0]\n",
    "    start = time.clock()\n",
    "    X = JL(data, eps)\n",
    "    A = Affinity_KNN(X, k, alg='kd_tree')\n",
    "    N = Normalization(A)\n",
    "    Y = Y_Matrix(N, m)\n",
    "    test = spKmeans(Y, m)\n",
    "    end = time.clock()\n",
    "    acc = Accuracy(true, test)\n",
    "    runtime = end - start\n",
    "    return acc, runtime"
   ]
  },
  {
   "cell_type": "markdown",
   "metadata": {},
   "source": [
    "# LSH"
   ]
  },
  {
   "cell_type": "code",
   "execution_count": 20,
   "metadata": {},
   "outputs": [],
   "source": [
    "def Affinity_LSH(query_object, x, k):\n",
    "    A = np.zeros((10000,10000))\n",
    "    for i in range(10000):\n",
    "        index = query_object.find_k_nearest_neighbors(x[i],k)\n",
    "        A[i,index] = 1\n",
    "    return A"
   ]
  },
  {
   "cell_type": "code",
   "execution_count": 21,
   "metadata": {},
   "outputs": [],
   "source": [
    "def LSH(data, k, m):\n",
    "    size = data.shape[0]\n",
    "    start = time.clock()\n",
    "    \n",
    "    params_cp = falconn.LSHConstructionParameters()\n",
    "    params_cp.dimension = len(data[0])\n",
    "    params_cp.k = size\n",
    "    params_cp.l = size\n",
    "    params_cp.num_rotations = 1\n",
    "    params_cp.seed = 2018\n",
    "    params_cp.lsh_family = falconn.LSHFamily.CrossPolytope\n",
    "    params_cp.num_setup_threads = 0\n",
    "    params_cp.distance_function = falconn.DistanceFunction.EuclideanSquared\n",
    "    params_cp.storage_hash_table = falconn.StorageHashTable.BitPackedFlatHashTable\n",
    "    falconn.compute_number_of_hash_functions(13, params_cp)\n",
    "    table = falconn.LSHIndex(params_cp)\n",
    "    table.setup(X_test)\n",
    "    query_object = table.construct_query_object()\n",
    "    \n",
    "    A = lsh_A(query_object, data, k)\n",
    "    N = Normalization(A)\n",
    "    Y = Y_Matrix(N, m)\n",
    "    test = spKmeans(Y, m)\n",
    "    end = time.clock()\n",
    "    acc = Accuracy(true, test)\n",
    "    runtime = end - start\n",
    "    \n",
    "    return acc, runtime"
   ]
  },
  {
   "cell_type": "markdown",
   "metadata": {},
   "source": [
    "# Figure"
   ]
  },
  {
   "cell_type": "code",
   "execution_count": null,
   "metadata": {},
   "outputs": [],
   "source": [
    "def figure():\n",
    "    acc1 = np.zeros(4)\n",
    "    acc2 = np.zeros(4)\n",
    "    acc3 = np.zeros(4)\n",
    "    acc4 = np.zeros(4)\n",
    "    runtime1 = np.zeros(4)\n",
    "    runtime2 = np.zeros(4)\n",
    "    runtime3 = np.zeros(4)\n",
    "    runtime4 = np.zeros(4)\n",
    "    p = [250, 500, 1000, 2000]\n",
    "    \n",
    "    for i in range(4):\n",
    "        data = data_generate(5000, p[i], 1)\n",
    "        eps = epsilon(data)\n",
    "        acc1[i], runtime1[i] = Exact(data, 5, 2)\n",
    "        acc2[i], runtime2[i] = JL_Exact(data, 5, 2)\n",
    "        acc3[i], runtime3[i] = JL_Kdtree(data, 5, 2)\n",
    "        acc4[i], runtime4[i] = LSH(data, 5, 2)\n",
    "            \n",
    "    plt.plot(p, acc1, label = 'Exact')\n",
    "    plt.plot(p, acc2, label = 'JL_Exact')\n",
    "    plt.plot(p, acc3, label = 'JL_Kdtree')\n",
    "    plt.plot(p, acc4, label = 'LSH')\n",
    "    plt.title('Accurace vs p')\n",
    "    plt.xlabel('p')\n",
    "    plt.ylabel('Accurace')\n",
    "    plt.legend()\n",
    "    plt.savefig('Accurace.pdf', bbox_inches='tight')\n",
    "    \n",
    "    plt.plot(p, runtime1, label = 'Exact')\n",
    "    plt.plot(p, runtime2, label = 'JL_Exact')\n",
    "    plt.plot(p, runtime3, label = 'JL_Kdtree')\n",
    "    plt.plot(p, runtime4, label = 'LSH')\n",
    "    plt.title('Runtime vs p')\n",
    "    plt.xlabel('p')\n",
    "    plt.ylabel('Runtime/s')\n",
    "    plt.legend()\n",
    "    plt.savefig('Runtime.pdf', bbox_inches='tight')"
   ]
  }
 ],
 "metadata": {
  "kernelspec": {
   "display_name": "Python 3",
   "language": "python",
   "name": "python3"
  },
  "language_info": {
   "codemirror_mode": {
    "name": "ipython",
    "version": 3
   },
   "file_extension": ".py",
   "mimetype": "text/x-python",
   "name": "python",
   "nbconvert_exporter": "python",
   "pygments_lexer": "ipython3",
   "version": "3.7.3"
  },
  "toc": {
   "base_numbering": 1,
   "nav_menu": {},
   "number_sections": true,
   "sideBar": true,
   "skip_h1_title": false,
   "title_cell": "Table of Contents",
   "title_sidebar": "Contents",
   "toc_cell": false,
   "toc_position": {},
   "toc_section_display": true,
   "toc_window_display": false
  }
 },
 "nbformat": 4,
 "nbformat_minor": 2
}
